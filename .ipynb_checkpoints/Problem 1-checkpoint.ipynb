{
 "cells": [
  {
   "cell_type": "code",
   "execution_count": 1,
   "metadata": {
    "collapsed": true
   },
   "outputs": [],
   "source": [
    "import numpy as np"
   ]
  },
  {
   "cell_type": "code",
   "execution_count": 3,
   "metadata": {
    "collapsed": false
   },
   "outputs": [
    {
     "name": "stdout",
     "output_type": "stream",
     "text": [
      "[[  1.00000000e+00+0.j   0.00000000e+00+0.j]\n",
      " [  0.00000000e+00+0.j   6.12323400e-17-1.j]]\n",
      "[[ 2.40566382+0.j]\n",
      " [-0.79921017+0.j]\n",
      " [-3.29713947+0.j]\n",
      " [-0.62767717+0.j]]\n",
      "[-2.31836300+0.j        5.70280329+0.171533j  0.53541169+0.j\n",
      "  5.70280329-0.171533j]\n",
      "Relative error = 4.74573942883\n"
     ]
    }
   ],
   "source": [
    "def w_n(n):\n",
    "    return np.exp(-2j*np.pi/n)\n",
    "\n",
    "def my_fft2(X):\n",
    "    N = len(X)\n",
    "    if N == 2:\n",
    "        Y1 = X[0] + X[1]\n",
    "        Y2 = X[0] - X[1]\n",
    "        Y = np.append(Y1,Y2)\n",
    "        return Y\n",
    "    else:\n",
    "        i = np.arange(N/2)\n",
    "        w = w_n(N)**i\n",
    "        W = np.diag(w)\n",
    "        print W\n",
    "        even = X[0:N-1:2]\n",
    "        odd = X[1:N:2]\n",
    "        Y1 = my_fft2(even)\n",
    "        Y2 = my_fft2(odd)\n",
    "        WY2 = np.dot(W,Y2)\n",
    "        Y3 = Y1 + WY2\n",
    "        Y4 = Y1 - WY2\n",
    "        Y = np.append(Y3,Y4)\n",
    "    return Y\n",
    "\n",
    "    \n",
    "    \n",
    "\n",
    "N = 4\n",
    "X = 2*np.random.randn(N,1)\n",
    "Y = my_fft2(X)\n",
    "YY = np.fft.fft(X)\n",
    "print YY\n",
    "print Y\n",
    "\n",
    "print 'Relative error =', (np.linalg.norm(Y - YY)) / np.linalg.norm(YY)\n",
    "\n",
    " \n",
    "    "
   ]
  },
  {
   "cell_type": "code",
   "execution_count": 6,
   "metadata": {
    "collapsed": false
   },
   "outputs": [
    {
     "name": "stdout",
     "output_type": "stream",
     "text": [
      "[[ 0.57611939]\n",
      " [ 1.26412863]\n",
      " [ 1.64145641]\n",
      " [ 0.65917684]]\n",
      "[[ 0.57611939]\n",
      " [ 1.64145641]]\n"
     ]
    }
   ],
   "source": [
    "N = 4\n",
    "X = 2*np.random.rand(N,1)\n",
    "print X\n",
    "even = X[0:N-1:2]\n",
    "print even"
   ]
  },
  {
   "cell_type": "code",
   "execution_count": null,
   "metadata": {
    "collapsed": true
   },
   "outputs": [],
   "source": []
  }
 ],
 "metadata": {
  "kernelspec": {
   "display_name": "Python 2",
   "language": "python",
   "name": "python2"
  },
  "language_info": {
   "codemirror_mode": {
    "name": "ipython",
    "version": 2
   },
   "file_extension": ".py",
   "mimetype": "text/x-python",
   "name": "python",
   "nbconvert_exporter": "python",
   "pygments_lexer": "ipython2",
   "version": "2.7.10"
  }
 },
 "nbformat": 4,
 "nbformat_minor": 0
}
