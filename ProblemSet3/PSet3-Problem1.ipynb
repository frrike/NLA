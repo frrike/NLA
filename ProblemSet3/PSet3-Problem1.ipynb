{
 "cells": [
  {
   "cell_type": "markdown",
   "metadata": {},
   "source": [
    "# Task 1 - Theoretical"
   ]
  },
  {
   "cell_type": "markdown",
   "metadata": {},
   "source": [
    "### Ranks and sceleton decoposition"
   ]
  },
  {
   "cell_type": "markdown",
   "metadata": {},
   "source": [
    "#### 1.\n",
    "$ A = \\begin{pmatrix}\n",
    "1 & 1 & 1\\\\\n",
    "2 & 2 & 2\\\\\n",
    "1 & 2 & 1\\\\\n",
    "\\end{pmatrix}$\n",
    "\n",
    "The 1st and the 3rd columns are the same, and 1st and 2nd columns are linearly independent (because there is no such $ k$ that $x_1 = k x_2$. So, the rank equals 2.\n",
    "\n",
    "$ U = \\begin{pmatrix}\n",
    "1 & 1 \\\\\n",
    "2 & 2 \\\\\n",
    "1 & 2 \\\\\n",
    "\\end{pmatrix}, \\quad\n",
    "\\hat{A}= \\begin{pmatrix}\n",
    "1 & 1 \\\\\n",
    "1 & 2 \\\\\n",
    "\\end{pmatrix}, \\quad\n",
    "\\hat{A}^{-1} = \\begin{pmatrix}\n",
    "2 & -1 \\\\\n",
    "-1 & 1 \\\\\n",
    "\\end{pmatrix},\\quad\n",
    "V^T = \\begin{pmatrix}\n",
    "1 & 1 & 1 \\\\\n",
    "1 & 2 & 1 \\\\\n",
    "\\end{pmatrix}\\\\\n",
    "U \\hat{A}^{-1} V^T = \\begin{pmatrix}\n",
    "1 & 1 \\\\\n",
    "2 & 2 \\\\\n",
    "1 & 2 \\\\\n",
    "\\end{pmatrix}\\cdot\n",
    "\\begin{pmatrix}\n",
    "2 & -1 \\\\\n",
    "-1 & 1 \\\\\n",
    "\\end{pmatrix}\\cdot\n",
    "\\begin{pmatrix}\n",
    "1 & 1 & 1 \\\\\n",
    "1 & 2 & 1 \\\\\n",
    "\\end{pmatrix} = \\begin{pmatrix}\n",
    "1 & 1 \\\\\n",
    "2 & 2 \\\\\n",
    "1 & 2 \\\\\n",
    "\\end{pmatrix}\\cdot\n",
    "\\begin{pmatrix}\n",
    "1 & 0 & 1\\\\\n",
    "0 & 1 & 0\\\\\n",
    "\\end{pmatrix} = \\begin{pmatrix}\n",
    "1 & 1 & 1\\\\\n",
    "2 & 2 & 2\\\\\n",
    "1 & 2 & 1\\\\\n",
    "\\end{pmatrix} = A\n",
    "$"
   ]
  },
  {
   "cell_type": "markdown",
   "metadata": {},
   "source": [
    "#### 2.\n",
    "$a_{ij} = (i + j)^2,\\quad i,j = 1,\\ldots,n\\quad\\\\\n",
    "a_{ij} = i^2 + \\sqrt 2 i \\sqrt 2 j + j^2 = u_{i1}v_{j1} + u_{i2}v_{j2} + u_{i3}v_{j3},\\quad where\\\\\n",
    "u_{i1} = i^2,\\quad v_{j1} = 1,\\\\\n",
    "u_{i2} = \\sqrt 2 i,\\quad v_{j2} = \\sqrt 2 j,\\\\\n",
    "u_{i3} = 1,\\quad v_{j3} = j^2,\\\\\n",
    "rank = 3\n",
    "$\n"
   ]
  },
  {
   "cell_type": "markdown",
   "metadata": {},
   "source": [
    "### SVD"
   ]
  },
  {
   "cell_type": "markdown",
   "metadata": {},
   "source": [
    "#### 1.\n",
    "For any $(m\\times n)$ matrix \n",
    "$||A||_2 = ||U \\Sigma V^*||_2 = ||\\Sigma||_2,\\\\\n",
    "$\n",
    "Where $U,V$ are unitary, $\\Sigma$ is a diadonal matrix with non-negative diagonal elements $\\sigma_1 \\ge \\sigma_2\\ge\\ldots\\ge\\sigma_k,\\quad k = min(m,n)\\\\\n",
    "||\\Sigma||_2 = \\sup\\limits_{x\\ne0} \\frac{||\\Sigma x||_2}{||x||_2} = \\sup\\limits_{x\\ne0} \\frac{{\\left(\\sigma_1^2 x_1^2 + \\sigma_2^2 x_2^2 + \\ldots + \\sigma_r^2 x_r^2\\right)}^{\\frac{1}{2}}}{{\\left(x_1^2 + \\ldots + x_k^2\\right)}^{\\frac{1}{2}}} = \\sup\\limits_{x\\ne0} \\frac{{\\left(\\sigma_1^2 \\left(x_1^2 + \\frac{\\sigma_2^2}{\\sigma_1^2} x_2^2 + \\ldots + \\frac{\\sigma_r^2}{\\sigma_1^2} x_r^2\\right)\\right)}^{\\frac{1}{2}}}{{\\left(x_1^2 + \\ldots + x_k^2\\right)}^{\\frac{1}{2}}},\\\\\n",
    "\\frac{{\\left(\\sigma_1^2 \\left(x_1^2 + \\frac{\\sigma_2^2}{\\sigma_1^2} x_2^2 + \\ldots + \\frac{\\sigma_r^2}{\\sigma_1^2} x_r^2\\right)\\right)}^{\\frac{1}{2}}}{{\\left(x_1^2 + \\ldots + x_k^2\\right)}^{\\frac{1}{2}}} \\le \\frac{{\\left(\\sigma_1^2 \\left(x_1^2 + \\frac{\\sigma_2^2}{\\sigma_1^2} x_2^2 + \\ldots + \\frac{\\sigma_r^2}{\\sigma_1^2} x_r^2\\right)\\right)}^{\\frac{1}{2}}}{{\\left(x_1^2 + \\ldots + x_r^2\\right)}^{\\frac{1}{2}}} \\le \\frac{{\\left(\\sigma_1^2 \\left(x_1^2 +  x_2^2 + \\ldots + x_r^2\\right)\\right)}^{\\frac{1}{2}}}{{\\left(x_1^2 + \\ldots + x_r^2\\right)}^{\\frac{1}{2}}} = \\sigma_1.\\\\\n",
    "||A||_2 = \\sigma_1.\n",
    "$"
   ]
  },
  {
   "cell_type": "markdown",
   "metadata": {},
   "source": [
    "$||A||_F = ||U \\Sigma V^*||_F = ||\\Sigma||_F = {\\left(\\sigma_1^2 + \\ldots + \\sigma_r^2\\right)}^{\\frac{1}{2}}.\\\\\n",
    "$"
   ]
  },
  {
   "cell_type": "markdown",
   "metadata": {},
   "source": [
    "### Eigenvalues\n",
    "#### 1.\n",
    "$\n",
    "A = \\begin{pmatrix}\n",
    "1 & 0 & 1\\\\\n",
    "0 & 0 & 0\\\\\n",
    "1 & 0 & 1\\\\\n",
    "\\end{pmatrix}\\quad\n",
    "$\n",
    "A is symmetric, so it is normal, so it is diagonalizable.\n"
   ]
  },
  {
   "cell_type": "markdown",
   "metadata": {},
   "source": [
    "#### 2.\n",
    "If A is Hermitian,skew-Hermitian or unitary, then A is normal, so, $A = U\\Lambda U^*$, where $U$ is unitary, $\\Lambda$ is diagonal.\n",
    "$A^* = (U\\Lambda U^*)^* = (\\Lambda U^*)^* U^* = (U^*)^* \\Lambda^* U^* = U \\Lambda^* U^*.\\quad\n",
    "A^* = A \\quad iff \\quad\\Lambda^* = \\Lambda,\\quad \\lambda_i^* = \\lambda_i => \\lambda_i \\in \\mathbb R_1.\\quad\\\\\n",
    "$"
   ]
  },
  {
   "cell_type": "markdown",
   "metadata": {},
   "source": [
    "For skew-Hermitian $A^* = -A$, so $\\lambda_i = -\\lambda_i^*$ - it is possible iff $\\lambda_i$ has only imaginary part."
   ]
  },
  {
   "cell_type": "markdown",
   "metadata": {},
   "source": [
    "For unitary matrix $I = AA^* = U\\Lambda U^* U \\Lambda^* U^* = U \\Lambda\\Lambda^* U^*,\\\\\n",
    "\\Lambda\\Lambda^* = U^*AA^*U = I\\quad =>\\\\\n",
    "\\lambda_i\\lambda_i^* = 1 \\quad => |\\lambda_i| = 1.\n",
    "$"
   ]
  },
  {
   "cell_type": "markdown",
   "metadata": {},
   "source": [
    "### Linear systems"
   ]
  },
  {
   "cell_type": "markdown",
   "metadata": {},
   "source": [
    "#### 1.\n",
    "My laptop has 4 logical processors with 1.8GHz. Taking superscalarity into account (4 operations per timestep), the perfomanse is $4\\cdot4\\cdot\\text{1.8GHz} = 28.8\\text{GFLOPS}$, so \n",
    "$time = \\frac{{\\left(10^6\\right)}^3 +{ \\left(10^6\\right)}^2 operations}{28.8 \\cdot 10^9 flops} \\approx 3.472\\cdot10^7sec \\approx 402 days.$"
   ]
  },
  {
   "cell_type": "markdown",
   "metadata": {},
   "source": [
    "#### 2.\n",
    "If LU - decomposition is given, the solution reduces to the solution of two linear systems with triangular matrixes.\n",
    "Suppose that we have the system: (for convinience, suppose $a_{ij}$ are non-zero.\n",
    "$\n",
    "a_{11} x_{1} = y_{1}, \\quad x_1 = \\frac{y_1}{a_{11}}\\quad - 1\\quad operation\\\\\n",
    "a_{21} x_1 + a_{22} x_2 = y_{2},\\quad x_2 = \\frac{y_2 - a_{21}x_1}{a_{22}}\\quad - 3\\quad operations\\\\\n",
    "a_{31} x_1 + a_{32} x_2 + a_{33} x_3 = y_3,\\quad x_3 = \\frac{y_3 - a_{31}x_1 - a_{32}x_2}{a_{33}}\\quad - 5\\quad operations\\\\\n",
    "\\cdots\\\\\n",
    "a_{n1} x_1 + \\ldots + a_{nn} x_n = y_n.\\quad x_n = \\ldots\\quad - (2n - 1) \\quad operations\\\\\n",
    "$\n"
   ]
  },
  {
   "cell_type": "markdown",
   "metadata": {
    "collapsed": true
   },
   "source": [
    "Finally, we have $\\sum\\limits_{k = 1}^n 2k - 1 = \n",
    "n(n+1) - n = n^2$ operations. \n",
    "So, for two triangular systems we have $2n^2 = \\mathcal O(n^2)$ operations."
   ]
  },
  {
   "cell_type": "markdown",
   "metadata": {},
   "source": [
    "If the QR-decomposition is given:\n",
    "$ QR\\cdot x = y <=> Rx = Q*y$\n",
    "So we have $n^2$ operations for solving the triangualar system and $2n^2 - n$ operations for matvec. So,in general case, $3n^2 - n = \\mathcal O(n^2)$ operations."
   ]
  },
  {
   "cell_type": "code",
   "execution_count": null,
   "metadata": {
    "collapsed": true
   },
   "outputs": [],
   "source": []
  },
  {
   "cell_type": "code",
   "execution_count": null,
   "metadata": {
    "collapsed": true
   },
   "outputs": [],
   "source": []
  }
 ],
 "metadata": {
  "kernelspec": {
   "display_name": "Python 2",
   "language": "python",
   "name": "python2"
  },
  "language_info": {
   "codemirror_mode": {
    "name": "ipython",
    "version": 2
   },
   "file_extension": ".py",
   "mimetype": "text/x-python",
   "name": "python",
   "nbconvert_exporter": "python",
   "pygments_lexer": "ipython2",
   "version": "2.7.10"
  }
 },
 "nbformat": 4,
 "nbformat_minor": 0
}
