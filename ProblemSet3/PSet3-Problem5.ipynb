{
 "cells": [
  {
   "cell_type": "markdown",
   "metadata": {},
   "source": [
    "# Problem 5 - Recommender systems"
   ]
  },
  {
   "cell_type": "markdown",
   "metadata": {},
   "source": [
    "### Task 0 - preparing the data"
   ]
  },
  {
   "cell_type": "code",
   "execution_count": 2,
   "metadata": {
    "collapsed": true
   },
   "outputs": [],
   "source": [
    "import pandas as pd\n",
    "from pandas.io.common import ZipFile\n",
    "from requests import get\n",
    "\n",
    "import numpy as np\n",
    "import scipy as sp\n",
    "from scipy import sparse\n",
    "\n",
    "from collections import namedtuple\n",
    "import sys"
   ]
  },
  {
   "cell_type": "code",
   "execution_count": 3,
   "metadata": {
    "collapsed": true
   },
   "outputs": [],
   "source": [
    "if sys.version_info[0] < 3:\n",
    "    from StringIO import StringIO\n",
    "else:\n",
    "    from io import StringIO "
   ]
  },
  {
   "cell_type": "code",
   "execution_count": 4,
   "metadata": {
    "collapsed": true
   },
   "outputs": [],
   "source": [
    "def get_movielens_data(local_file):\n",
    "    '''Downloads movielens data, normalizes users and movies ids,\n",
    "    returns data in sparse CSR format.\n",
    "    '''\n",
    "    if not local_file:\n",
    "        print 'Downloading data...'\n",
    "        zip_file_url = 'http://files.grouplens.org/datasets/movielens/ml-10m.zip'\n",
    "        zip_response = get(zip_file_url)\n",
    "        zip_contents = StringIO(zip_response.content)\n",
    "        print 'Done.'\n",
    "    else:\n",
    "        zip_contents = local_file\n",
    "    \n",
    "    print 'Loading data into memory...'\n",
    "    with ZipFile(zip_contents) as zfile:\n",
    "        zdata = zfile.read('ml-10M100K/ratings.dat')\n",
    "        delimiter = ';'\n",
    "        zdata = zdata.replace('::', delimiter) # makes data compatible with pandas c-engine\n",
    "        ml_data = pd.read_csv(StringIO(zdata), sep=delimiter, header=None, engine='c',\n",
    "                                  names=['userid', 'movieid', 'rating', 'timestamp'],\n",
    "                                  usecols=['userid', 'movieid', 'rating'])\n",
    "    \n",
    "    # normalize indices to avoid gaps\n",
    "    ml_data['movieid'] = ml_data.groupby('movieid', sort=False).grouper.group_info[0]\n",
    "    ml_data['userid'] = ml_data.groupby('userid', sort=False).grouper.group_info[0]\n",
    "    \n",
    "    # build sparse user-movie matrix\n",
    "    data_shape = ml_data[['userid', 'movieid']].max() + 1\n",
    "    data_matrix = sp.sparse.csr_matrix((ml_data['rating'],\n",
    "                                       (ml_data['userid'], ml_data['movieid'])),\n",
    "                                        shape=data_shape, dtype=np.float64)\n",
    "    \n",
    "    print 'Done.'\n",
    "    return data_matrix"
   ]
  },
  {
   "cell_type": "code",
   "execution_count": 5,
   "metadata": {
    "collapsed": true
   },
   "outputs": [],
   "source": [
    "def split_data(data, test_ratio=0.2):\n",
    "    '''Randomly splits data into training and testing datasets. Default ratio is 80%/20%.\n",
    "    Returns datasets in namedtuple format for convenience. Usage:\n",
    "    train_data, test_data = split_data(data_matrix)\n",
    "    or\n",
    "    movielens_data = split_data(data_matrix)\n",
    "    and later in code: \n",
    "    do smth with movielens_data.train \n",
    "    do smth with movielens_data.test\n",
    "    '''\n",
    "    \n",
    "    num_users = data.shape[0]\n",
    "    idx = np.zeros((num_users,), dtype=bool)\n",
    "    sel = np.random.choice(num_users, test_ratio*num_users, replace=False)\n",
    "    np.put(idx, sel, True)\n",
    "    \n",
    "    Movielens_data = namedtuple('MovieLens10M', ['train', 'test'])\n",
    "    movielens_data = Movielens_data(train=data[~idx, :], test=data[idx, :])\n",
    "    return movielens_data"
   ]
  },
  {
   "cell_type": "code",
   "execution_count": 6,
   "metadata": {
    "collapsed": false
   },
   "outputs": [
    {
     "name": "stdout",
     "output_type": "stream",
     "text": [
      "Loading data into memory...\n",
      "Done.\n"
     ]
    },
    {
     "name": "stderr",
     "output_type": "stream",
     "text": [
      "C:\\Users\\frike\\AppData\\Local\\Continuum\\Anaconda\\lib\\site-packages\\ipykernel\\__main__.py:14: DeprecationWarning: using a non-integer number instead of an integer will result in an error in the future\n"
     ]
    }
   ],
   "source": [
    "local_file='C:/Users/frike/Documents/!botanstvo/SkolTech/NLA/ProblemSet3/ml-10m.zip'\n",
    "data = get_movielens_data(local_file)\n",
    "movielens_data = split_data(data)"
   ]
  },
  {
   "cell_type": "markdown",
   "metadata": {},
   "source": [
    "### Task 1 - building the core of reccomender"
   ]
  },
  {
   "cell_type": "code",
   "execution_count": 7,
   "metadata": {
    "collapsed": false
   },
   "outputs": [
    {
     "name": "stdout",
     "output_type": "stream",
     "text": [
      "0.0133800329905\n"
     ]
    }
   ],
   "source": [
    "sparsity = np.float64(movielens_data.train.nnz)/(movielens_data.train.shape[0]*movielens_data.train.shape[1])\n",
    "print sparsity"
   ]
  },
  {
   "cell_type": "code",
   "execution_count": 8,
   "metadata": {
    "collapsed": false
   },
   "outputs": [],
   "source": [
    "import scipy.sparse\n",
    "import scipy.sparse.linalg\n",
    "r = 100\n",
    "u, s, v = scipy.sparse.linalg.svds(movielens_data.train, r)\n",
    "u = np.ascontiguousarray(u[:,::-1])\n",
    "s = np.ascontiguousarray(s[::-1])\n",
    "v = np.ascontiguousarray(v[::-1,:])"
   ]
  },
  {
   "cell_type": "code",
   "execution_count": 9,
   "metadata": {
    "collapsed": false
   },
   "outputs": [
    {
     "data": {
      "text/plain": [
       "<matplotlib.text.Text at 0x227732b0>"
      ]
     },
     "execution_count": 9,
     "metadata": {},
     "output_type": "execute_result"
    },
    {
     "data": {
      "image/png": "[encoded data removed]",
      "text/plain": [
       "<matplotlib.figure.Figure at 0x225cf6a0>"
      ]
     },
     "metadata": {},
     "output_type": "display_data"
    }
   ],
   "source": [
    "import matplotlib.pyplot as plt\n",
    "%matplotlib inline\n",
    "plt.figure(figsize=(10,10))\n",
    "plt.plot(s)\n",
    "plt.title('Singular values for train data')"
   ]
  },
  {
   "cell_type": "markdown",
   "metadata": {},
   "source": [
    "The graph goes to a straight, but does not reach the downturn, so the data has a low-rank structure. About 40 values would be sufficient for my model."
   ]
  },
  {
   "cell_type": "code",
   "execution_count": 106,
   "metadata": {
    "collapsed": false
   },
   "outputs": [],
   "source": [
    "r = 200\n",
    "u, s, v = scipy.sparse.linalg.svds(movielens_data.train, r)"
   ]
  },
  {
   "cell_type": "code",
   "execution_count": 107,
   "metadata": {
    "collapsed": true
   },
   "outputs": [],
   "source": [
    "u = np.ascontiguousarray(u[:,::-1])\n",
    "s = np.ascontiguousarray(s[::-1])\n",
    "v = np.ascontiguousarray(v[::-1,:])"
   ]
  },
  {
   "cell_type": "code",
   "execution_count": 108,
   "metadata": {
    "collapsed": false
   },
   "outputs": [
    {
     "name": "stdout",
     "output_type": "stream",
     "text": [
      "55903\n"
     ]
    }
   ],
   "source": [
    "num_users = movielens_data.train.shape[0]\n",
    "print num_users\n",
    "idx = np.zeros((num_users,), dtype=int)\n",
    "sel = np.random.choice(num_users,5,replace = False)\n",
    "np.put(idx, sel, 1)\n",
    "#mov_rec = idx.T.dot(u).dot(np.diag(s)).dot(v)"
   ]
  },
  {
   "cell_type": "code",
   "execution_count": 109,
   "metadata": {
    "collapsed": false
   },
   "outputs": [
    {
     "name": "stdout",
     "output_type": "stream",
     "text": [
      "[[ 381 1005    9   62   94   60  146  192  279   16]\n",
      " [1293  133   72 1292  164  156  139   24   74 1024]\n",
      " [ 259 1093  489  543  258  633  621   37  206 1920]\n",
      " [ 605  220   44  625   22  195  140    7  178  139]\n",
      " [  74   72   85 1479  175   18   93   94   75   79]]\n",
      "[[1211   36  993  399  311  301  133 2070  284  192]\n",
      " [1293   72  218  164  402 1024  241  381  133  419]\n",
      " [ 259 1362 1920  577  606 1610  201  589  164  638]\n",
      " [4180 1082  148  146 2152  140  139 3016 1134 1312]\n",
      " [1479   74    1  314  313   88  306   85   72 1412]]\n"
     ]
    }
   ],
   "source": [
    "q = np.zeros((num_users,5))\n",
    "j = 0\n",
    "for i,ind in enumerate(idx):\n",
    "    if (ind != 0):\n",
    "        q[i,j] = 1\n",
    "        j += 1\n",
    "mov_rec = q.T.dot(u).dot(np.diag(s)).dot(v)\n",
    "mov = (movielens_data.train.T.dot(q)).T\n",
    "rate = scipy.argsort(mov,axis = 1)[:,-10:][:,::-1]\n",
    "top_10 = scipy.argsort(mov_rec,axis = 1)[:,-10:][:,::-1]\n",
    "print top_10\n",
    "print rate\n"
   ]
  },
  {
   "cell_type": "code",
   "execution_count": 111,
   "metadata": {
    "collapsed": false
   },
   "outputs": [
    {
     "name": "stdout",
     "output_type": "stream",
     "text": [
      "[180 179 178 177 176 175 101  83  34  24]\n",
      "[ 195.  198.  193.  192.  206.  188.  185.  190.  187.  182.]\n",
      "[259 238 202 198 196 123  79  39  31  30]\n",
      "[  616.   605.   625.   636.   630.   265.   631.   638.  1770.  1009.]\n",
      "[16 14 11  9  7  5  4  3  2  1]\n",
      "[   22.   139.  1008.    18.   213.    85.   133.    74.   101.   102.]\n",
      "[140 101  38  36  33  31  30  29  28  27]\n",
      "[ 1494.  1300.    32.  1302.   311.  1283.  1429.  1482.  1303.  1489.]\n",
      "[92 85 73 50 36 30 20 18  9  7]\n",
      "[  417.   426.   145.  1328.   381.  1438.   468.   605.   217.   146.]\n"
     ]
    }
   ],
   "source": [
    "N = 10\n",
    "from scipy.sparse import csr_matrix\n",
    "num_users = movielens_data.test.shape[0]\n",
    "num_movies = movielens_data.test.shape[1]\n",
    "top_N = np.zeros((num_users,N))\n",
    "for i in xrange(5):\n",
    "    x = np.zeros(num_movies)\n",
    "    __,ind = csr_matrix.nonzero(movielens_data.test[i])\n",
    "    history = ind[:len(ind)-N]\n",
    "    evaluation = ind[len(ind)-N:]\n",
    "    for j in history:\n",
    "        x[j] += movielens_data.test[i,j]\n",
    "    r = v.T.dot(v.dot(x))\n",
    "    top_N[i] = scipy.argsort(r)[-N:][::-1].astype(np.int64)\n",
    "    print evaluation\n",
    "    print top_N[i]\n",
    "        \n",
    "        \n",
    "\n",
    "\n"
   ]
  },
  {
   "cell_type": "code",
   "execution_count": 21,
   "metadata": {
    "collapsed": false
   },
   "outputs": [
    {
     "name": "stdout",
     "output_type": "stream",
     "text": [
      "(array([0, 2, 3], dtype=int64),)\n"
     ]
    }
   ],
   "source": []
  },
  {
   "cell_type": "code",
   "execution_count": null,
   "metadata": {
    "collapsed": true
   },
   "outputs": [],
   "source": []
  }
 ],
 "metadata": {
  "kernelspec": {
   "display_name": "Python 2",
   "language": "python",
   "name": "python2"
  },
  "language_info": {
   "codemirror_mode": {
    "name": "ipython",
    "version": 2
   },
   "file_extension": ".py",
   "mimetype": "text/x-python",
   "name": "python",
   "nbconvert_exporter": "python",
   "pygments_lexer": "ipython2",
   "version": "2.7.10"
  }
 },
 "nbformat": 4,
 "nbformat_minor": 0
}
