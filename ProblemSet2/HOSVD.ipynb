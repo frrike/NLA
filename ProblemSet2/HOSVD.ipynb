{
 "cells": [
  {
   "cell_type": "markdown",
   "metadata": {},
   "source": [
    "Bonus Problem (HOSVD)"
   ]
  },
  {
   "cell_type": "code",
   "execution_count": 40,
   "metadata": {
    "collapsed": false
   },
   "outputs": [
    {
     "name": "stdout",
     "output_type": "stream",
     "text": [
      "[0 1 2]\n",
      "[[[ 0.  0.  0.]\n",
      "  [ 0.  0.  0.]\n",
      "  [ 0.  0.  0.]]\n",
      "\n",
      " [[ 0.  0.  0.]\n",
      "  [ 0.  1.  2.]\n",
      "  [ 0.  2.  4.]]\n",
      "\n",
      " [[ 0.  0.  0.]\n",
      "  [ 0.  2.  4.]\n",
      "  [ 0.  4.  8.]]]\n",
      "[[ 0.  0.  0.]\n",
      " [ 0.  0.  0.]\n",
      " [ 0.  0.  0.]\n",
      " [ 0.  0.  0.]\n",
      " [ 0.  1.  2.]\n",
      " [ 0.  2.  4.]\n",
      " [ 0.  0.  0.]\n",
      " [ 0.  2.  4.]\n",
      " [ 0.  4.  8.]]\n"
     ]
    }
   ],
   "source": [
    "import numpy as np\n",
    "np.set_printoptions(precision = 3)\n",
    "def Hilbert_tensor(n):\n",
    "    a = np.zeros((n,n,n))\n",
    "    args = np.arange(n)\n",
    "    print args\n",
    "    for i in args:\n",
    "        for j in args:\n",
    "            for k in args:\n",
    "                #a[i,j,k] = 1./(i + j + k + 1)\n",
    "                a[i,j,k]= i*j*k\n",
    "    return a\n",
    "\n",
    "\n",
    "N = 3\n",
    "H = Hilbert_tensor(n)\n",
    "print H\n",
    "print H.reshape(9,3,order = \"C\")"
   ]
  },
  {
   "cell_type": "markdown",
   "metadata": {},
   "source": [
    "Transforming 3D-tensor to matrix (n-mode flattening)"
   ]
  },
  {
   "cell_type": "code",
   "execution_count": null,
   "metadata": {
    "collapsed": true
   },
   "outputs": [],
   "source": [
    "def flattening(X,n):\n",
    "    #n - mode\n",
    "    I = X.shape\n",
    "    A = np.zeros((I[n], I[(n + 1) % 3] * I[(n + 2) % 3]))\n",
    "    for i1 in xrange(I[0]):\n",
    "        for i2 in xrange(I[1]):\n",
    "            for i3 in xrange(I[2]):\n",
    "                J = np.ones(3,)\n",
    "                for k in xrange(3):\n",
    "                    for m in xrange(k):\n",
    "                        if m != n:\n",
    "                            J[k] *= I[m]\n",
    "                    \n",
    "                j = i1*J[0]*(n != 0) + i2*J[1]*(n != 1) + i3*J[2]*(n != 2) \n",
    "                i = 0\n",
    "                if n == 0:\n",
    "                    i = i1\n",
    "                    elif n == 1:\n",
    "                        i = i2\n",
    "                        else i = i3\n",
    "                A[i,j] = X[i1,i2,i3]\n",
    "    return A"
   ]
  }
 ],
 "metadata": {
  "kernelspec": {
   "display_name": "Python 2",
   "language": "python",
   "name": "python2"
  },
  "language_info": {
   "codemirror_mode": {
    "name": "ipython",
    "version": 2
   },
   "file_extension": ".py",
   "mimetype": "text/x-python",
   "name": "python",
   "nbconvert_exporter": "python",
   "pygments_lexer": "ipython2",
   "version": "2.7.10"
  }
 },
 "nbformat": 4,
 "nbformat_minor": 0
}
