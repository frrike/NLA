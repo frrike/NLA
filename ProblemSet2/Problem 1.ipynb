{
 "cells": [
  {
   "cell_type": "code",
   "execution_count": 61,
   "metadata": {
    "collapsed": true
   },
   "outputs": [],
   "source": [
    "import numpy as np"
   ]
  },
  {
   "cell_type": "code",
   "execution_count": 62,
   "metadata": {
    "collapsed": false
   },
   "outputs": [
    {
     "name": "stdout",
     "output_type": "stream",
     "text": [
      "Relative error = 3.90512248271e-15\n"
     ]
    }
   ],
   "source": [
    "def w_n(n):\n",
    "    return np.exp(-2j*np.pi/n)\n",
    "\n",
    "def my_fft(X):\n",
    "    N = len(X)\n",
    "    if N == 1:\n",
    "        return X\n",
    "    elif N == 2:\n",
    "        Y1 = X[0] + X[1]\n",
    "        Y2 = X[0] - X[1]\n",
    "        Y = np.append(Y1,Y2)\n",
    "        return Y\n",
    "    else:\n",
    "        i = np.arange(N/2)\n",
    "        w = w_n(N)**i\n",
    "        W = np.diag(w)\n",
    "        even = X[0:N-1:2]\n",
    "        odd = X[1:N:2]\n",
    "        Y1 = my_fft(even)\n",
    "        Y2 = my_fft(odd)\n",
    "        WY2 = np.dot(W,Y2)\n",
    "        Y3 = Y1 + WY2\n",
    "        Y4 = Y1 - WY2\n",
    "        Y = np.append(Y3,Y4)\n",
    "    return Y\n",
    "\n",
    "    \n",
    "    \n",
    "\n",
    "N = 64\n",
    "X = 2*np.random.randn(N,)\n",
    "myY = my_fft(X)\n",
    "npY = np.fft.fft(X)\n",
    "\n",
    "print 'Relative error =', (np.linalg.norm(myY - npY)) / np.linalg.norm(npY)\n",
    "\n",
    " \n",
    "    "
   ]
  },
  {
   "cell_type": "markdown",
   "metadata": {
    "collapsed": true
   },
   "source": [
    "Timings"
   ]
  },
  {
   "cell_type": "code",
   "execution_count": 63,
   "metadata": {
    "collapsed": true
   },
   "outputs": [],
   "source": [
    "from timeit import default_timer as timer"
   ]
  },
  {
   "cell_type": "code",
   "execution_count": 163,
   "metadata": {
    "collapsed": false
   },
   "outputs": [],
   "source": [
    "dims = [2**n for n in np.arange(0,10)]\n",
    "bench_names = ['numpy.fft', 'my fft']\n",
    "bench_funcs = [np.fft.fft, my_fft]\n",
    "timings = {bench_name: [] for bench_name in bench_names}\n",
    "\n",
    "for N in dims:\n",
    "        X = 2*np.random.rand(N,)\n",
    "        start_time = timer()\n",
    "        Y = np.fft.fft(X)\n",
    "        time_delta = timer() - start_time\n",
    "        timings['numpy.fft'].append(time_delta)\n",
    "\n",
    "        start_time = timer()\n",
    "        Y = my_fft(X)\n",
    "        time_delta = timer() - start_time\n",
    "        timings['my fft'].append(time_delta)\n",
    "    "
   ]
  },
  {
   "cell_type": "code",
   "execution_count": 164,
   "metadata": {
    "collapsed": true
   },
   "outputs": [],
   "source": [
    "import matplotlib.pyplot as plt\n",
    "%matplotlib inline "
   ]
  },
  {
   "cell_type": "code",
   "execution_count": 174,
   "metadata": {
    "collapsed": false
   },
   "outputs": [
    {
     "data": {
      "image/png": "[encoded data removed]",
      "text/plain": [
       "<matplotlib.figure.Figure at 0xc288400>"
      ]
     },
     "metadata": {},
     "output_type": "display_data"
    }
   ],
   "source": [
    "plt.figure(figsize=(10,8))\n",
    "\n",
    "\n",
    "for bench_name, values in timings.iteritems():\n",
    "    plt.semilogy(dims, values, label=bench_name)\n",
    "\n",
    "#coef = 0.53 \n",
    "#nLogn = [10**-5*coef*a*np.log2(a) for a in dims]\n",
    "\n",
    "  \n",
    "plt.legend(loc='best')\n",
    "plt.title('Benchmarking results with default_timer', y=1.03)\n",
    "plt.xlabel('n')\n",
    "plt.ylabel('Time, s')\n",
    "plt.yscale('log')\n",
    "plt.xscale('log')"
   ]
  },
  {
   "cell_type": "markdown",
   "metadata": {},
   "source": [
    "$T_{CT}(n)= 2T_{CT}(\\frac{n}{2}) + 2(\\frac{n}{2}) = 2\\left(2T_{CT}(\\frac{n}{4}) + 2(\\frac{n}{4})\\right) + 2(\\frac{n}{2}) = \\sum\\limits_{k=1}^{p} 2^k\\frac{n}{2^k} + 2^p T_{CT}\\left(\\frac{n}{2^p}\\right) = n\\cdot log_2 n + 2^{log_2 n}T_{CT}(1) = n\\cdot log_2 n + n$"
   ]
  },
  {
   "cell_type": "code",
   "execution_count": null,
   "metadata": {
    "collapsed": true
   },
   "outputs": [],
   "source": []
  }
 ],
 "metadata": {
  "kernelspec": {
   "display_name": "Python 2",
   "language": "python",
   "name": "python2"
  },
  "language_info": {
   "codemirror_mode": {
    "name": "ipython",
    "version": 2
   },
   "file_extension": ".py",
   "mimetype": "text/x-python",
   "name": "python",
   "nbconvert_exporter": "python",
   "pygments_lexer": "ipython2",
   "version": "2.7.10"
  }
 },
 "nbformat": 4,
 "nbformat_minor": 0
}
